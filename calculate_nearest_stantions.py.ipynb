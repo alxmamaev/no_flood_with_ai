{
 "cells": [
  {
   "cell_type": "code",
   "execution_count": 1,
   "metadata": {},
   "outputs": [],
   "source": [
    "import os\n",
    "import pickle\n",
    "import numpy as np\n",
    "import scipy as sp\n",
    "import pandas as pd\n",
    "import json\n",
    "from geopy.distance import great_circle\n",
    "import plotly.express as px\n",
    "import plotly.graph_objects as go"
   ]
  },
  {
   "cell_type": "code",
   "execution_count": 2,
   "metadata": {},
   "outputs": [],
   "source": [
    "existing_meteo = []\n",
    "existing_meteo_new = []\n",
    "\n",
    "for i in os.listdir(\"datasets/meteo/\"):\n",
    "    if not i.endswith(\".csv\"):\n",
    "        continue\n",
    "    existing_meteo.append(int(i.split(\".\")[0]))\n",
    "    \n",
    "for i in os.listdir(\"datasets/meteo_new/\"):\n",
    "    if not i.endswith(\".csv\"):\n",
    "        continue\n",
    "    existing_meteo.append(int(i.split(\".\")[0]))\n",
    "    existing_meteo_new.append(int(i.split(\".\")[0]))"
   ]
  },
  {
   "cell_type": "code",
   "execution_count": 3,
   "metadata": {},
   "outputs": [],
   "source": [
    "with open(\"datasets/processed_data/meteo_coords.pkl\", \"rb\") as f:\n",
    "    meteo_coords = pickle.load(f)\n",
    "    meteo_coords = meteo_coords[[i in existing_meteo for i in meteo_coords[\"meteo_id\"]]]\n",
    "    \n",
    "with open(\"datasets/processed_data/station_coords.pkl\", \"rb\") as f:\n",
    "    station_coords = pickle.load(f)"
   ]
  },
  {
   "cell_type": "code",
   "execution_count": 6,
   "metadata": {},
   "outputs": [],
   "source": [
    "nearest_stantions = {}\n",
    "nearest_meteo = {}\n",
    "\n",
    "TOP_K_stantions = 15\n",
    "TOP_K_meteo = 4\n",
    "\n",
    "for stantion in station_coords[[\"station_id\", \"lat\", \"lon\"]].values:\n",
    "    stantion_id, lat, lon = stantion\n",
    "    \n",
    "    distances = []\n",
    "    ids = []\n",
    "    \n",
    "    for _station_id, _lat, _lon in station_coords[[\"station_id\", \"lat\", \"lon\"]].values:\n",
    "        if _lon < lon:\n",
    "            distance = round(great_circle((lat, lon), (_lat, _lon)).km, 1)\n",
    "            distances.append(distance)\n",
    "            ids.append(_station_id)\n",
    "        \n",
    "    \n",
    "    ids_and_distances = zip(ids, distances)\n",
    "    ids_and_distances = sorted(ids_and_distances, key=lambda x: x[1])[:TOP_K_stantions]\n",
    "    nearest_stantions[stantion_id] = ids_and_distances\n",
    "    \n",
    "    \n",
    "for stantion in station_coords[[\"station_id\", \"lat\", \"lon\"]].values:\n",
    "    stantion_id, lat, lon = stantion\n",
    "    \n",
    "    \n",
    "    distances = [great_circle((lat, lon), _crd).km for _crd in station_coords[[\"lat\", \"lon\"]].values]\n",
    "    ids = meteo_coords[\"meteo_id\"].astype(np.int32).tolist()\n",
    "    \n",
    "    ids_and_distances = zip(ids, distances)\n",
    "    ids_and_distances = sorted(ids_and_distances, key=lambda x: x[1])[:TOP_K_meteo+1]\n",
    "    nearest_meteo[stantion_id] = ids_and_distances\n",
    "    \n",
    "meteo_coords = meteo_coords[[i in existing_meteo_new for i in meteo_coords[\"meteo_id\"]]]\n",
    "for stantion in station_coords[[\"station_id\", \"lat\", \"lon\"]].values:\n",
    "    stantion_id, lat, lon = stantion\n",
    "    \n",
    "    if any([i[0] in existing_meteo_new for i in nearest_meteo[stantion_id]]):\n",
    "        continue\n",
    "    \n",
    "    distances = [great_circle((lat, lon), _crd).km for _crd in station_coords[[\"lat\", \"lon\"]].values]\n",
    "    ids = meteo_coords[\"meteo_id\"].astype(np.int32).tolist()\n",
    "    \n",
    "    ids_and_distances = zip(ids, distances)\n",
    "    ids_and_distances = sorted(ids_and_distances, key=lambda x: x[1])\n",
    "    nearest_meteo[stantion_id].append(ids_and_distances[0])"
   ]
  },
  {
   "cell_type": "code",
   "execution_count": 12,
   "metadata": {},
   "outputs": [],
   "source": [
    "with open(\"temp_data/nearest_stantions.pkl\", \"wb\") as f:\n",
    "    pickle.dump(nearest_stantions, f)\n",
    "    \n",
    "with open(\"temp_data/nearest_meteo.pkl\", \"wb\") as f:\n",
    "    pickle.dump(nearest_meteo, f)"
   ]
  },
  {
   "cell_type": "code",
   "execution_count": null,
   "metadata": {},
   "outputs": [],
   "source": []
  }
 ],
 "metadata": {
  "kernelspec": {
   "display_name": "Python 3",
   "language": "python",
   "name": "python3"
  },
  "language_info": {
   "codemirror_mode": {
    "name": "ipython",
    "version": 3
   },
   "file_extension": ".py",
   "mimetype": "text/x-python",
   "name": "python",
   "nbconvert_exporter": "python",
   "pygments_lexer": "ipython3",
   "version": "3.7.6"
  }
 },
 "nbformat": 4,
 "nbformat_minor": 4
}
