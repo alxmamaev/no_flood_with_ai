{
 "cells": [
  {
   "cell_type": "code",
   "execution_count": 14,
   "metadata": {},
   "outputs": [
    {
     "name": "stdout",
     "output_type": "stream",
     "text": [
      "INFO: Pandarallel will run on 8 workers.\n",
      "INFO: Pandarallel will use standard multiprocessing data transfer (pipe) to transfer data between the main process and workers.\n"
     ]
    },
    {
     "name": "stderr",
     "output_type": "stream",
     "text": [
      "/Users/alxmamaev/anaconda3/lib/python3.7/site-packages/tqdm/std.py:668: FutureWarning: The Panel class is removed from pandas. Accessing it from the top-level namespace will also be removed in the next version\n",
      "  from pandas import Panel\n"
     ]
    }
   ],
   "source": [
    "import os\n",
    "import json\n",
    "import time\n",
    "import numpy as np\n",
    "import pandas as pd\n",
    "import pickle\n",
    "from utils.meteo import load_meteo\n",
    "from tqdm import tqdm \n",
    "from tqdm.notebook import tqdm_notebook\n",
    "from multiprocessing import Pool\n",
    "from pandarallel import pandarallel\n",
    "from matplotlib import pyplot as plt\n",
    "\n",
    "tqdm.pandas()\n",
    "pandarallel.initialize(progress_bar=False)"
   ]
  },
  {
   "cell_type": "code",
   "execution_count": 17,
   "metadata": {},
   "outputs": [],
   "source": [
    "# Выбираем целевые гидрологические посты\n",
    "target_station_ids = [6005, 6022, 6296, 6027, 5004, 5012, 5024, 5805]\n",
    "\n",
    "# Загружаем мэпинг ближайших станций и метео станций к произвольной\n",
    "with open(\"temp_data/nearest_stantions.pkl\", \"rb\") as f:\n",
    "    nearest_stantions = pickle.load(f)\n",
    "    \n",
    "with open(\"temp_data/nearest_meteo.pkl\", \"rb\") as f:\n",
    "    nearest_meteo = pickle.load(f)"
   ]
  },
  {
   "cell_type": "code",
   "execution_count": 3,
   "metadata": {},
   "outputs": [
    {
     "data": {
      "application/vnd.jupyter.widget-view+json": {
       "model_id": "a7f1075ddf3f4224abdd23ad0da6bbf2",
       "version_major": 2,
       "version_minor": 0
      },
      "text/plain": [
       "HBox(children=(FloatProgress(value=0.0, max=114.0), HTML(value='')))"
      ]
     },
     "metadata": {},
     "output_type": "display_data"
    },
    {
     "name": "stdout",
     "output_type": "stream",
     "text": [
      "\n"
     ]
    }
   ],
   "source": [
    "meteo = {}\n",
    "meteo_ids = [i.split(\".\")[0] for i in os.listdir(\"datasets/meteo_new/\") if i.endswith(\".csv\")] +\\\n",
    "            [i.split(\".\")[0] for i in os.listdir(\"datasets/meteo/\") if i.endswith(\".csv\")]\n",
    "\n",
    "meteo_ids = list(set(meteo_ids))\n",
    "\n",
    "\n",
    "for meteo_id in tqdm_notebook(meteo_ids):\n",
    "    meteo[int(meteo_id)] = load_meteo(meteo_id).interpolate()\n",
    "    \n",
    "meteo_columns = meteo[4443141].columns"
   ]
  },
  {
   "cell_type": "code",
   "execution_count": 20,
   "metadata": {},
   "outputs": [],
   "source": [
    "def calculate_meteo(item):\n",
    "    identifier = item[\"identifier\"]\n",
    "    near_meteo = nearest_meteo[identifier]\n",
    "    date = item[\"time\"]\n",
    "    \n",
    "    meteo_dist = []\n",
    "    meteo_data = []\n",
    "    \n",
    "    for i, dist in near_meteo:\n",
    "        try:\n",
    "            meteo_data.append(meteo[i].loc[date])\n",
    "            meteo_dist.append(dist)\n",
    "        except KeyError:\n",
    "            continue\n",
    "    \n",
    "    if not meteo_data:\n",
    "        return pd.Series(dtype=np.float32)\n",
    "\n",
    "    meteo_dist_ = np.array(meteo_dist)\n",
    "    meteo_dist_ = np.exp(-(meteo_dist_ / 10))\n",
    "    \n",
    "    meteo_data = pd.concat(meteo_data, axis=1)\n",
    "    \n",
    "    result = (meteo_data.fillna(0) * np.expand_dims(meteo_dist_, axis=0)).sum(axis=1)\n",
    "    sum_dist = ((~meteo_data.isna()).astype(np.float32) * np.expand_dims(meteo_dist_, axis=0)).sum(axis=1)\n",
    "    \n",
    "    \n",
    "    result = result / sum_dist\n",
    "    result[\"min_stantion_dist\"] = min(meteo_dist)\n",
    "    \n",
    "    meteo_dist_exp_sum_ = meteo_dist_.sum()\n",
    "    result[\"mean_stantion_dist\"] = sum([i * j / meteo_dist_exp_sum_ for i, j in zip(meteo_dist, meteo_dist_)]) \n",
    "    \n",
    "    return result.round(2)"
   ]
  },
  {
   "cell_type": "code",
   "execution_count": 21,
   "metadata": {},
   "outputs": [],
   "source": [
    "nearest_stantions_ = {}"
   ]
  },
  {
   "cell_type": "code",
   "execution_count": 22,
   "metadata": {},
   "outputs": [],
   "source": [
    "dataset = pd.read_csv(\"datasets/hydro_2018-2020/new_data_all.csv\", sep=\";\")\n",
    "dataset[\"time\"] = pd.to_datetime(dataset[\"time\"])\n",
    "dataset = dataset[dataset[\"identifier\"].isin(nearest_meteo)]\n",
    "dataset = dataset.sort_index()\n",
    "\n",
    "def add_missing_dates(data, identifier):\n",
    "    data = data.set_index(\"time\").sort_index()\n",
    "    data = data.asfreq(\"D\")\n",
    "    data = data.reset_index()\n",
    "    data[\"identifier\"] = identifier\n",
    "    \n",
    "    return data\n",
    "\n",
    "\n",
    "dataset = dataset.set_index(\"identifier\")\n",
    "dataset = pd.concat([add_missing_dates(dataset.loc[identifier], identifier) \n",
    "                                       for identifier in dataset.index.unique()])\n",
    "\n",
    "dataset = dataset[dataset[\"identifier\"].isin([i[0] for i in \\\n",
    "                                             ((dataset.groupby(\"identifier\")[\"time\"].min().dt.year < 1997) &\n",
    "                                              (dataset.groupby(\"identifier\")[\"time\"].max().dt.year > 2012)).items()\\\n",
    "                                              if i[1]])]\n",
    "\n",
    "dataset = dataset.rename(columns={\"max_level\": \"level\"})\n",
    "stantion_ids = dataset[\"identifier\"].unique()"
   ]
  },
  {
   "cell_type": "code",
   "execution_count": 23,
   "metadata": {},
   "outputs": [
    {
     "name": "stdout",
     "output_type": "stream",
     "text": [
      "Fot stantion 6005 number of near_stantions is 2\n",
      "Fot stantion 6022 number of near_stantions is 3\n",
      "Fot stantion 6296 number of near_stantions is 3\n",
      "Fot stantion 6027 number of near_stantions is 3\n",
      "Fot stantion 5004 number of near_stantions is 3\n",
      "Fot stantion 5012 number of near_stantions is 3\n",
      "Fot stantion 5024 number of near_stantions is 3\n"
     ]
    },
    {
     "name": "stderr",
     "output_type": "stream",
     "text": [
      "/Users/alxmamaev/anaconda3/lib/python3.7/site-packages/ipykernel_launcher.py:24: SettingWithCopyWarning: \n",
      "A value is trying to be set on a copy of a slice from a DataFrame\n",
      "\n",
      "See the caveats in the documentation: https://pandas.pydata.org/pandas-docs/stable/user_guide/indexing.html#returning-a-view-versus-a-copy\n"
     ]
    },
    {
     "name": "stdout",
     "output_type": "stream",
     "text": [
      "Fot stantion 5805 number of near_stantions is 3\n",
      "Fot stantion 5116 number of near_stantions is 3\n",
      "Fot stantion 5292 number of near_stantions is 3\n",
      "Fot stantion 5216 number of near_stantions is 3\n",
      "Fot stantion 5094 number of near_stantions is 3\n",
      "Fot stantion 5740 number of near_stantions is 3\n",
      "Fot stantion 6437 number of near_stantions is 3\n",
      "Fot stantion 5354 number of near_stantions is 3\n",
      "Fot stantion 5383 number of near_stantions is 3\n",
      "Fot stantion 5190 number of near_stantions is 3\n",
      "Fot stantion 6496 number of near_stantions is 3\n",
      "Fot stantion 6016 number of near_stantions is 3\n",
      "Fot stantion 6345 number of near_stantions is 3\n",
      "Fot stantion 5446 number of near_stantions is 3\n",
      "Fot stantion 5135 number of near_stantions is 3\n",
      "Fot stantion 6387 number of near_stantions is 3\n",
      "Fot stantion 6287 number of near_stantions is 3\n",
      "Fot stantion 6443 number of near_stantions is 3\n",
      "Fot stantion 5026 number of near_stantions is 3\n",
      "Fot stantion 5364 number of near_stantions is 3\n",
      "Fot stantion 5166 number of near_stantions is 3\n",
      "Fot stantion 5663 number of near_stantions is 3\n",
      "Fot stantion 5296 number of near_stantions is 3\n",
      "Fot stantion 5148 number of near_stantions is 3\n",
      "Fot stantion 6456 number of near_stantions is 3\n",
      "Fot stantion 5237 number of near_stantions is 3\n",
      "Fot stantion 5128 number of near_stantions is 3\n",
      "Fot stantion 6302 number of near_stantions is 3\n",
      "Fot stantion 6334 number of near_stantions is 3\n",
      "Fot stantion 5167 number of near_stantions is 3\n",
      "Fot stantion 5020 number of near_stantions is 3\n"
     ]
    }
   ],
   "source": [
    "# calculcate nearest stantions\n",
    "\n",
    "dataset = dataset.set_index([\"identifier\", \"time\"])\n",
    "\n",
    "new_dataset = []\n",
    "\n",
    "\n",
    "stantions = target_station_ids + [i for i in stantion_ids if i not in target_station_ids][:30]\n",
    "\n",
    "for stantion_id in stantions:\n",
    "    d = dataset.loc[stantion_id]\n",
    "    d[\"identifier\"] = stantion_id\n",
    "    \n",
    "    nst = [i for i in nearest_stantions[stantion_id] if i[0] in stantion_ids][:3]\n",
    "    \n",
    "    print(\"Fot stantion\", stantion_id, \"number of near_stantions is\", len(nst))\n",
    "    \n",
    "    for i in range(3):\n",
    "        if len(nst) > i:\n",
    "            if stantion_id in target_station_ids:\n",
    "                nearest_stantions_[stantion_id] = nearest_stantions_.get(stantion_id, []) + [nst[i]]\n",
    "            d[\"near_level_{}\".format(i+1)] = dataset.loc[nst[i][0]][\"level\"]\n",
    "            d[\"near_dist_{}\".format(i+1)] = nst[i][1]\n",
    "            d[\"near_dist_{}\".format(i+1)][d[\"near_level_{}\".format(i+1)].isna()] = -1\n",
    "            d[\"near_level_{}\".format(i+1)] = d[\"near_level_{}\".format(i+1)].fillna(-1)\n",
    "        else:\n",
    "            if stantion_id in target_station_ids:\n",
    "                nearest_stantions_[stantion_id] = nearest_stantions_.get(stantion_id, [])\n",
    "            d[\"near_level_{}\".format(i+1)] = -1\n",
    "            d[\"near_dist_{}\".format(i+1)] = -1\n",
    "            \n",
    "    new_dataset.append(d)\n",
    "    \n",
    "dataset = pd.concat(new_dataset).reset_index()\n",
    "dataset = dataset.set_index([\"identifier\", \"time\"])"
   ]
  },
  {
   "cell_type": "code",
   "execution_count": 24,
   "metadata": {},
   "outputs": [
    {
     "data": {
      "text/plain": [
       "{6005: [(6246, 93.8), (6545, 989.0)],\n",
       " 6022: [(6020, 60.2), (6549, 140.1), (6016, 156.4)],\n",
       " 6296: [(6022, 6.1), (6023, 17.4), (6020, 60.5)],\n",
       " 6027: [(6507, 55.7), (6026, 82.0), (6443, 92.7)],\n",
       " 5004: [(5675, 22.3), (5044, 39.9), (5002, 73.8)],\n",
       " 5012: [(5013, 4.3), (5009, 34.0), (5008, 41.3)],\n",
       " 5024: [(5415, 33.3), (5420, 35.9), (5663, 55.7)],\n",
       " 5805: [(5803, 58.1), (5664, 79.2), (5033, 84.1)]}"
      ]
     },
     "execution_count": 24,
     "metadata": {},
     "output_type": "execute_result"
    }
   ],
   "source": [
    "nearest_stantions_"
   ]
  },
  {
   "cell_type": "code",
   "execution_count": 25,
   "metadata": {},
   "outputs": [],
   "source": [
    "dataset = dataset.reset_index()"
   ]
  },
  {
   "cell_type": "code",
   "execution_count": 26,
   "metadata": {},
   "outputs": [
    {
     "data": {
      "text/html": [
       "<div>\n",
       "<style scoped>\n",
       "    .dataframe tbody tr th:only-of-type {\n",
       "        vertical-align: middle;\n",
       "    }\n",
       "\n",
       "    .dataframe tbody tr th {\n",
       "        vertical-align: top;\n",
       "    }\n",
       "\n",
       "    .dataframe thead th {\n",
       "        text-align: right;\n",
       "    }\n",
       "</style>\n",
       "<table border=\"1\" class=\"dataframe\">\n",
       "  <thead>\n",
       "    <tr style=\"text-align: right;\">\n",
       "      <th></th>\n",
       "      <th>identifier</th>\n",
       "      <th>time</th>\n",
       "      <th>level</th>\n",
       "      <th>near_level_1</th>\n",
       "      <th>near_dist_1</th>\n",
       "      <th>near_level_2</th>\n",
       "      <th>near_dist_2</th>\n",
       "      <th>near_level_3</th>\n",
       "      <th>near_dist_3</th>\n",
       "    </tr>\n",
       "  </thead>\n",
       "  <tbody>\n",
       "    <tr>\n",
       "      <th>0</th>\n",
       "      <td>6005</td>\n",
       "      <td>1984-01-01</td>\n",
       "      <td>80.0</td>\n",
       "      <td>30.0</td>\n",
       "      <td>93.8</td>\n",
       "      <td>-1.0</td>\n",
       "      <td>-1.0</td>\n",
       "      <td>-1.0</td>\n",
       "      <td>-1.0</td>\n",
       "    </tr>\n",
       "    <tr>\n",
       "      <th>1</th>\n",
       "      <td>6005</td>\n",
       "      <td>1984-01-02</td>\n",
       "      <td>76.0</td>\n",
       "      <td>30.0</td>\n",
       "      <td>93.8</td>\n",
       "      <td>-1.0</td>\n",
       "      <td>-1.0</td>\n",
       "      <td>-1.0</td>\n",
       "      <td>-1.0</td>\n",
       "    </tr>\n",
       "    <tr>\n",
       "      <th>2</th>\n",
       "      <td>6005</td>\n",
       "      <td>1984-01-03</td>\n",
       "      <td>70.0</td>\n",
       "      <td>27.0</td>\n",
       "      <td>93.8</td>\n",
       "      <td>-1.0</td>\n",
       "      <td>-1.0</td>\n",
       "      <td>-1.0</td>\n",
       "      <td>-1.0</td>\n",
       "    </tr>\n",
       "    <tr>\n",
       "      <th>3</th>\n",
       "      <td>6005</td>\n",
       "      <td>1984-01-04</td>\n",
       "      <td>69.0</td>\n",
       "      <td>25.0</td>\n",
       "      <td>93.8</td>\n",
       "      <td>-1.0</td>\n",
       "      <td>-1.0</td>\n",
       "      <td>-1.0</td>\n",
       "      <td>-1.0</td>\n",
       "    </tr>\n",
       "    <tr>\n",
       "      <th>4</th>\n",
       "      <td>6005</td>\n",
       "      <td>1984-01-05</td>\n",
       "      <td>69.0</td>\n",
       "      <td>23.0</td>\n",
       "      <td>93.8</td>\n",
       "      <td>-1.0</td>\n",
       "      <td>-1.0</td>\n",
       "      <td>-1.0</td>\n",
       "      <td>-1.0</td>\n",
       "    </tr>\n",
       "    <tr>\n",
       "      <th>...</th>\n",
       "      <td>...</td>\n",
       "      <td>...</td>\n",
       "      <td>...</td>\n",
       "      <td>...</td>\n",
       "      <td>...</td>\n",
       "      <td>...</td>\n",
       "      <td>...</td>\n",
       "      <td>...</td>\n",
       "      <td>...</td>\n",
       "    </tr>\n",
       "    <tr>\n",
       "      <th>495662</th>\n",
       "      <td>5020</td>\n",
       "      <td>2020-09-27</td>\n",
       "      <td>598.0</td>\n",
       "      <td>-1.0</td>\n",
       "      <td>-1.0</td>\n",
       "      <td>489.0</td>\n",
       "      <td>47.6</td>\n",
       "      <td>-1.0</td>\n",
       "      <td>-1.0</td>\n",
       "    </tr>\n",
       "    <tr>\n",
       "      <th>495663</th>\n",
       "      <td>5020</td>\n",
       "      <td>2020-09-28</td>\n",
       "      <td>603.0</td>\n",
       "      <td>-1.0</td>\n",
       "      <td>-1.0</td>\n",
       "      <td>485.0</td>\n",
       "      <td>47.6</td>\n",
       "      <td>-1.0</td>\n",
       "      <td>-1.0</td>\n",
       "    </tr>\n",
       "    <tr>\n",
       "      <th>495664</th>\n",
       "      <td>5020</td>\n",
       "      <td>2020-09-29</td>\n",
       "      <td>603.0</td>\n",
       "      <td>-1.0</td>\n",
       "      <td>-1.0</td>\n",
       "      <td>481.0</td>\n",
       "      <td>47.6</td>\n",
       "      <td>-1.0</td>\n",
       "      <td>-1.0</td>\n",
       "    </tr>\n",
       "    <tr>\n",
       "      <th>495665</th>\n",
       "      <td>5020</td>\n",
       "      <td>2020-09-30</td>\n",
       "      <td>603.0</td>\n",
       "      <td>-1.0</td>\n",
       "      <td>-1.0</td>\n",
       "      <td>475.0</td>\n",
       "      <td>47.6</td>\n",
       "      <td>-1.0</td>\n",
       "      <td>-1.0</td>\n",
       "    </tr>\n",
       "    <tr>\n",
       "      <th>495666</th>\n",
       "      <td>5020</td>\n",
       "      <td>2020-10-01</td>\n",
       "      <td>598.0</td>\n",
       "      <td>-1.0</td>\n",
       "      <td>-1.0</td>\n",
       "      <td>470.0</td>\n",
       "      <td>47.6</td>\n",
       "      <td>-1.0</td>\n",
       "      <td>-1.0</td>\n",
       "    </tr>\n",
       "  </tbody>\n",
       "</table>\n",
       "<p>495667 rows × 9 columns</p>\n",
       "</div>"
      ],
      "text/plain": [
       "        identifier       time  level  near_level_1  near_dist_1  near_level_2  \\\n",
       "0             6005 1984-01-01   80.0          30.0         93.8          -1.0   \n",
       "1             6005 1984-01-02   76.0          30.0         93.8          -1.0   \n",
       "2             6005 1984-01-03   70.0          27.0         93.8          -1.0   \n",
       "3             6005 1984-01-04   69.0          25.0         93.8          -1.0   \n",
       "4             6005 1984-01-05   69.0          23.0         93.8          -1.0   \n",
       "...            ...        ...    ...           ...          ...           ...   \n",
       "495662        5020 2020-09-27  598.0          -1.0         -1.0         489.0   \n",
       "495663        5020 2020-09-28  603.0          -1.0         -1.0         485.0   \n",
       "495664        5020 2020-09-29  603.0          -1.0         -1.0         481.0   \n",
       "495665        5020 2020-09-30  603.0          -1.0         -1.0         475.0   \n",
       "495666        5020 2020-10-01  598.0          -1.0         -1.0         470.0   \n",
       "\n",
       "        near_dist_2  near_level_3  near_dist_3  \n",
       "0              -1.0          -1.0         -1.0  \n",
       "1              -1.0          -1.0         -1.0  \n",
       "2              -1.0          -1.0         -1.0  \n",
       "3              -1.0          -1.0         -1.0  \n",
       "4              -1.0          -1.0         -1.0  \n",
       "...             ...           ...          ...  \n",
       "495662         47.6          -1.0         -1.0  \n",
       "495663         47.6          -1.0         -1.0  \n",
       "495664         47.6          -1.0         -1.0  \n",
       "495665         47.6          -1.0         -1.0  \n",
       "495666         47.6          -1.0         -1.0  \n",
       "\n",
       "[495667 rows x 9 columns]"
      ]
     },
     "execution_count": 26,
     "metadata": {},
     "output_type": "execute_result"
    }
   ],
   "source": [
    "dataset"
   ]
  },
  {
   "cell_type": "code",
   "execution_count": 27,
   "metadata": {},
   "outputs": [],
   "source": [
    "meteo_data = dataset.parallel_apply(calculate_meteo, axis=1)\n",
    "dataset_with_meteo = pd.concat((dataset, meteo_data), axis=1)"
   ]
  },
  {
   "cell_type": "code",
   "execution_count": 30,
   "metadata": {},
   "outputs": [],
   "source": [
    "dataset_with_meteo.to_csv(\"datasets/final_dataset.csv\", index=False)"
   ]
  },
  {
   "cell_type": "code",
   "execution_count": null,
   "metadata": {},
   "outputs": [],
   "source": []
  }
 ],
 "metadata": {
  "kernelspec": {
   "display_name": "Python 3",
   "language": "python",
   "name": "python3"
  },
  "language_info": {
   "codemirror_mode": {
    "name": "ipython",
    "version": 3
   },
   "file_extension": ".py",
   "mimetype": "text/x-python",
   "name": "python",
   "nbconvert_exporter": "python",
   "pygments_lexer": "ipython3",
   "version": "3.7.6"
  }
 },
 "nbformat": 4,
 "nbformat_minor": 4
}
